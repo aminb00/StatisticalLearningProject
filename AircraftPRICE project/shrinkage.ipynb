{
 "cells": [
  {
   "cell_type": "markdown",
   "id": "2424d2af",
   "metadata": {},
   "source": [
    "# LASSO"
   ]
  }
 ],
 "metadata": {
  "language_info": {
   "name": "python"
  }
 },
 "nbformat": 4,
 "nbformat_minor": 5
}
