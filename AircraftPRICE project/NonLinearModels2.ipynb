{
 "cells": [
  {
   "cell_type": "markdown",
   "id": "25a239b1",
   "metadata": {},
   "source": [
    "## NON LINEAR MODELLING"
   ]
  },
  {
   "cell_type": "code",
   "execution_count": null,
   "id": "d6a31ad0",
   "metadata": {},
   "outputs": [],
   "source": [
    "import numpy as np, pandas as pd\n",
    "from matplotlib.pyplot import subplots\n",
    "import statsmodels.api as sm\n",
    "from ISLP import load_data\n",
    "from ISLP.models import (summarize,\n",
    "                         poly,\n",
    "                         ModelSpec as MS)\n",
    "from statsmodels.stats.anova import anova_lm\n",
    "\n",
    "from pygam import (s as s_gam,\n",
    "                   l as l_gam,\n",
    "                   f as f_gam,\n",
    "                   LinearGAM,\n",
    "                   LogisticGAM)\n",
    "\n",
    "from ISLP.transforms import (BSpline,\n",
    "                             NaturalSpline)\n",
    "from ISLP.models import bs, ns\n",
    "from ISLP.pygam import (approx_lam,\n",
    "                        degrees_of_freedom,\n",
    "                        plot as plot_gam,\n",
    "                        anova as anova_gam)"
   ]
  },
  {
   "cell_type": "code",
   "execution_count": null,
   "id": "3c466831",
   "metadata": {},
   "outputs": [],
   "source": [
    "import numpy as np\n",
    "import matplotlib.pyplot as plt\n",
    "\n",
    "def plot_range_fit(data, \n",
    "                   y, \n",
    "                   basis, \n",
    "                   model, \n",
    "                   title):\n",
    "    # Genera un range uniforme per il plot\n",
    "    range_grid = np.linspace(data['range'].min(), data['range'].max(), 100)\n",
    "    df_range = pd.DataFrame({'range': range_grid})\n",
    "    \n",
    "    # Applica la trasformazione spline\n",
    "    Xnew = basis.transform(df_range)\n",
    "    \n",
    "    # Predizione e bande\n",
    "    preds = model.get_prediction(Xnew)\n",
    "    bands = preds.conf_int(alpha=0.05)\n",
    "\n",
    "    # Plot\n",
    "    fig, ax = plt.subplots(figsize=(8, 6))\n",
    "    ax.scatter(data['range'], y, facecolor='gray', alpha=0.5, label='Dati')\n",
    "    ax.plot(range_grid, preds.predicted_mean, 'b', linewidth=2, label='Fit')\n",
    "    ax.plot(range_grid, bands[:, 0], 'r--', linewidth=1.5, label='95% CI')\n",
    "    ax.plot(range_grid, bands[:, 1], 'r--', linewidth=1.5)\n",
    "    \n",
    "    ax.set_title(title, fontsize=16)\n",
    "    ax.set_xlabel('Range', fontsize=14)\n",
    "    ax.set_ylabel('log-Price', fontsize=14)\n",
    "    ax.legend()\n",
    "    plt.show()\n"
   ]
  },
  {
   "cell_type": "markdown",
   "id": "0a693c58",
   "metadata": {},
   "source": [
    "## Splines"
   ]
  },
  {
   "cell_type": "code",
   "execution_count": null,
   "id": "99264b81",
   "metadata": {},
   "outputs": [],
   "source": [
    "data=pd.read_csv(\"Data/aircraft_price_Engineered.csv\")\n",
    "data.columns"
   ]
  },
  {
   "cell_type": "code",
   "execution_count": null,
   "id": "0a005025",
   "metadata": {},
   "outputs": [],
   "source": [
    "price = data['price']\n",
    "y = price\n",
    "range = data['range']"
   ]
  },
  {
   "cell_type": "code",
   "execution_count": null,
   "id": "f41ccb71",
   "metadata": {},
   "outputs": [],
   "source": [
    "lower_bound = range.min()\n",
    "upper_bound = range.max()\n",
    "print(f\"Range: {lower_bound} to {upper_bound}\")"
   ]
  },
  {
   "cell_type": "code",
   "execution_count": null,
   "id": "e7e95ba5",
   "metadata": {},
   "outputs": [],
   "source": [
    "bs_ = BSpline(internal_knots=[1000,2500,4500], intercept=True).fit(data['range'])\n",
    "bs_age = bs_.transform(data['range'])\n",
    "bs_age.shape"
   ]
  },
  {
   "cell_type": "code",
   "execution_count": null,
   "id": "99674138",
   "metadata": {},
   "outputs": [],
   "source": [
    "bs_range = MS([bs('range', internal_knots=[1000,2500,4500])])\n",
    "Xbs = bs_range.fit_transform(data)\n",
    "M = sm.OLS(y, Xbs).fit()\n",
    "summarize(M)"
   ]
  },
  {
   "cell_type": "code",
   "execution_count": null,
   "id": "a77f7447",
   "metadata": {},
   "outputs": [],
   "source": [
    "bs_range = MS([bs('range',\n",
    "                internal_knots=[1000,2500,4500],\n",
    "                name='bs(range)')])\n",
    "Xbs = bs_range.fit_transform(data)\n",
    "M = sm.OLS(y, Xbs).fit()\n",
    "summarize(M)"
   ]
  },
  {
   "cell_type": "markdown",
   "id": "cab6e540",
   "metadata": {},
   "source": [
    "### alternative method"
   ]
  },
  {
   "cell_type": "code",
   "execution_count": null,
   "id": "8fd18ad0",
   "metadata": {},
   "outputs": [],
   "source": [
    "BSpline(df=6).fit(range).internal_knots_"
   ]
  },
  {
   "cell_type": "code",
   "execution_count": null,
   "id": "1daf8ea1",
   "metadata": {},
   "outputs": [],
   "source": [
    "bs_range = MS([bs('range',\n",
    "                 df=3, \n",
    "                 degree=3)]).fit(data)\n",
    "Xbs0 = bs_range.transform(data)\n",
    "# Trasformazione e fit\n",
    "Xbs0 = bs_range.transform(data)\n",
    "model = sm.OLS(y, Xbs0).fit()\n",
    "print(summarize(model))\n",
    "\n",
    "\n"
   ]
  },
  {
   "cell_type": "code",
   "execution_count": null,
   "id": "a83aa9b3",
   "metadata": {},
   "outputs": [],
   "source": [
    "#ANOVA\n",
    "\n",
    "X0 = np.ones((len(y), 1))\n",
    "model0 = sm.OLS(y, X0).fit()\n",
    "model1 = sm.OLS(y, Xbs0).fit()\n",
    "\n",
    "anova_results = anova_lm(model0, model1)\n",
    "print(anova_results)"
   ]
  },
  {
   "cell_type": "code",
   "execution_count": null,
   "id": "cc31e45d",
   "metadata": {},
   "outputs": [],
   "source": [
    "# Solo plot\n",
    "plot_range_fit(data, y, bs_range, model, \"Spline 3 degrees  fit on range\")"
   ]
  },
  {
   "cell_type": "markdown",
   "id": "d7c26c7c",
   "metadata": {},
   "source": [
    "## Smothing Splines and GAMs"
   ]
  },
  {
   "cell_type": "code",
   "execution_count": null,
   "id": "b0e0c12b",
   "metadata": {},
   "outputs": [],
   "source": [
    "range_grid = np.linspace(range.min(),\n",
    "                       range.max(),\n",
    "                       100)\n",
    "range_df = pd.DataFrame({'range': range_grid})\n",
    "\n",
    "\n"
   ]
  },
  {
   "cell_type": "code",
   "execution_count": null,
   "id": "87a89030",
   "metadata": {},
   "outputs": [],
   "source": [
    "\n",
    "def plot_range_fit(data, \n",
    "                   basis, \n",
    "                   y, \n",
    "                   title):\n",
    "    # Costruzione della matrice X e Xnew\n",
    "    X = basis.transform(data)\n",
    "\n",
    "    # Griglia di valori per il range\n",
    "    range_grid = np.linspace(data['speed_margin'].min(), data['speed_margin'].max(), 100)\n",
    "    range_df = pd.DataFrame({'range': range_grid})\n",
    "    Xnew = basis.transform(range_df)\n",
    "\n",
    "    # Fit del modello e predizioni sulla griglia\n",
    "    model = sm.OLS(y, X).fit()\n",
    "    preds = model.get_prediction(Xnew)\n",
    "    bands = preds.conf_int(alpha=0.05)\n",
    "\n",
    "    # Plot\n",
    "    fig, ax = plt.subplots(figsize=(8, 8))\n",
    "    ax.scatter(data['range'], y, facecolor='gray', alpha=0.5, label='Dati')\n",
    "    ax.plot(range_df['range'], preds.predicted_mean, 'b', linewidth=3, label='Fit')\n",
    "    ax.plot(range_df['range'], bands[:, 0], 'r--', linewidth=2, label='95% CI')\n",
    "    ax.plot(range_df['range'], bands[:, 1], 'r--', linewidth=2)\n",
    "\n",
    "    ax.set_title(title, fontsize=20)\n",
    "    ax.set_xlabel('Range', fontsize=20)\n",
    "    ax.set_ylabel('Target (y)', fontsize=20)\n",
    "    ax.legend()\n",
    "    return ax\n",
    "\n"
   ]
  },
  {
   "cell_type": "code",
   "execution_count": null,
   "id": "b0507548",
   "metadata": {},
   "outputs": [],
   "source": [
    "X_range = np.asarray(range).reshape((-1,1))\n",
    "gam = LinearGAM(s_gam(0, lam=0.6))\n",
    "gam.fit(X_range, y)\n",
    "# ora per speed_margin\n",
    "X_speed = np.asarray(data['speed_margin']).reshape((-1,1))\n",
    "gam_speed = LinearGAM(s_gam(0, lam=0.6))\n",
    "gam_speed.fit(X_speed, y)\n"
   ]
  },
  {
   "cell_type": "code",
   "execution_count": null,
   "id": "c6c77169",
   "metadata": {},
   "outputs": [],
   "source": [
    "fig, ax = subplots(figsize=(8,8))\n",
    "ax.scatter(range, y, facecolor='gray', alpha=0.5)\n",
    "for lam in np.logspace(-2, 6, 5):\n",
    "    gam = LinearGAM(s_gam(0, lam=lam)).fit(X_range, y)\n",
    "    ax.plot(range_grid,\n",
    "            gam.predict(range_grid),\n",
    "            label='{:.1e}'.format(lam),\n",
    "            linewidth=3)\n",
    "ax.set_xlabel('Range', fontsize=20)\n",
    "ax.set_ylabel('log-price', fontsize=20);\n",
    "ax.legend(title='$\\lambda$');\n",
    "\n",
    "\n",
    "\n"
   ]
  },
  {
   "cell_type": "code",
   "execution_count": null,
   "id": "9bfc302d",
   "metadata": {},
   "outputs": [],
   "source": [
    "gam_opt = gam.gridsearch(X_range, y)\n",
    "ax.plot(range_grid,\n",
    "        gam_opt.predict(range_grid),\n",
    "        label='Grid search',\n",
    "        linewidth=4)\n",
    "ax.legend()\n",
    "fig\n",
    "#tutte le informazioni\n"
   ]
  },
  {
   "cell_type": "code",
   "execution_count": null,
   "id": "90d26ae4",
   "metadata": {},
   "outputs": [],
   "source": [
    "#ora per speed_margin\n",
    "def plot_speed_fit(data, \n",
    "                   basis, \n",
    "                   y, \n",
    "                   title):\n",
    "    # Costruzione della matrice X e Xnew\n",
    "    X = basis.transform(data)\n",
    "\n",
    "    # Griglia di valori per il range\n",
    "    speed_grid = np.linspace(data['speed_margin'].min(), data['speed_margin'].max(), 100)\n",
    "    speed_df = pd.DataFrame({'speed_margin': speed_grid})\n",
    "    Xnew = basis.transform(speed_df)\n",
    "\n",
    "    # Fit del modello e predizioni sulla griglia\n",
    "    model = sm.OLS(y, X).fit()\n",
    "    preds = model.get_prediction(Xnew)\n",
    "    bands = preds.conf_int(alpha=0.05)\n",
    "\n",
    "    # Plot\n",
    "    fig, ax = plt.subplots(figsize=(8, 8))\n",
    "    ax.scatter(data['speed_margin'], y, facecolor='gray', alpha=0.5, label='Dati')\n",
    "    ax.plot(speed_df['speed_margin'], preds.predicted_mean, 'b', linewidth=3, label='Fit')\n",
    "    ax.plot(speed_df['speed_margin'], bands[:, 0], 'r--', linewidth=2, label='95% CI')\n",
    "    ax.plot(speed_df['speed_margin'], bands[:, 1], 'r--', linewidth=2)\n",
    "\n",
    "    ax.set_title(title, fontsize=20)\n",
    "    ax.set_xlabel('Speed Margin', fontsize=20)\n",
    "    ax.set_ylabel('Target (y)', fontsize=20)\n",
    "    ax.legend()\n",
    "    return ax\n",
    "#ora per speed_margin\n",
    "fig, ax = subplots(figsize=(8,8))\n",
    "ax.scatter(data['speed_margin'], y, facecolor='gray', alpha=0.5)\n",
    "for lam in np.logspace(-2, 6, 5):\n",
    "    gam_speed = LinearGAM(s_gam(0, lam=lam)).fit(X_speed, y)\n",
    "    ax.plot(speed_grid,\n",
    "            gam_speed.predict(speed_grid),\n",
    "            label='{:.1e}'.format(lam),\n",
    "            linewidth=3)\n",
    "ax.set_xlabel('Speed Margin', fontsize=20)\n",
    "ax.set_ylabel('log-price', fontsize=20);\n",
    "ax.legend(title='$\\lambda$');"
   ]
  },
  {
   "cell_type": "markdown",
   "id": "7b0abdf3",
   "metadata": {},
   "source": [
    "#### Alternative method (deegress of freedom)\n"
   ]
  },
  {
   "cell_type": "code",
   "execution_count": null,
   "id": "1ed71002",
   "metadata": {},
   "outputs": [],
   "source": [
    "range_term = gam.terms[0]\n",
    "lam_4 = approx_lam(X_range, range_term, 4)\n",
    "range_term.lam = lam_4\n",
    "\n",
    "print(f\"Degrees of freedom: {degrees_of_freedom(X_range, range_term)}\")"
   ]
  },
  {
   "cell_type": "code",
   "execution_count": null,
   "id": "238e28c8",
   "metadata": {},
   "outputs": [],
   "source": [
    "fig, ax = subplots(figsize=(8,8))\n",
    "ax.scatter(X_range,\n",
    "           y,\n",
    "           facecolor='gray',\n",
    "           alpha=0.3)\n",
    "for df in [1, 3, 4, 8, 15]:\n",
    "    try:\n",
    "        lam = approx_lam(X_range, range_term, df + 1)\n",
    "        range_term.lam = lam\n",
    "        gam.fit(X_range, y)\n",
    "        ax.plot(range_grid,\n",
    "                gam.predict(range_grid),\n",
    "                label='{:d}'.format(df),\n",
    "                linewidth=4)\n",
    "    except ValueError as e:\n",
    "        print(f\"Skipping df={df} due to error: {e}\")\n",
    "ax.set_xlabel('Age', fontsize=20)\n",
    "ax.set_ylabel('Wage', fontsize=20);\n",
    "ax.legend(title='Degrees of freedom');"
   ]
  },
  {
   "cell_type": "markdown",
   "id": "db1cf474",
   "metadata": {},
   "source": [
    "## Additive Models with Several Terms\n",
    "\n"
   ]
  },
  {
   "cell_type": "code",
   "execution_count": null,
   "id": "cf2d226c",
   "metadata": {},
   "outputs": [],
   "source": [
    "data.columns"
   ]
  },
  {
   "cell_type": "code",
   "execution_count": null,
   "id": "a6b5df9e",
   "metadata": {},
   "outputs": [],
   "source": [
    "gam_full = LinearGAM(s_gam(0) +\n",
    "                     s_gam(1, n_splines=7) +\n",
    "                     f_gam(2, lam=0))\n",
    "Xgam = np.column_stack([range,\n",
    "                        data['roc_mean'],\n",
    "                        data['speed_margin'],\n",
    "                        ])\n",
    "gam_full = gam_full.fit(Xgam, y)"
   ]
  },
  {
   "cell_type": "code",
   "execution_count": null,
   "id": "0559c02a",
   "metadata": {},
   "outputs": [],
   "source": [
    "fig, ax = subplots(figsize=(8,8))\n",
    "plot_gam(gam_full, 0, ax=ax)\n",
    "ax.set_xlabel('range')\n",
    "ax.set_ylabel('Effect on price')\n",
    "ax.set_title('Partial dependence of range on price - default lam=0.6', fontsize=20);"
   ]
  },
  {
   "cell_type": "code",
   "execution_count": null,
   "id": "40249dfa",
   "metadata": {},
   "outputs": [],
   "source": [
    "range_term = gam_full.terms[0]\n",
    "range_term.lam = approx_lam(Xgam, range_term, df=4+1)\n",
    "roc_mean_term = gam_full.terms[1]\n",
    "roc_mean_term.lam = approx_lam(Xgam, roc_mean_term, df=4+1)\n",
    "gam_full = gam_full.fit(Xgam, y)"
   ]
  },
  {
   "cell_type": "code",
   "execution_count": null,
   "id": "aa20e396",
   "metadata": {},
   "outputs": [],
   "source": [
    "fig, ax = subplots(figsize=(8,8))\n",
    "plot_gam(gam_full,\n",
    "         1,\n",
    "         ax=ax)\n",
    "ax.set_xlabel('roc_mean')\n",
    "ax.set_ylabel('Effect on log-price')\n",
    "ax.set_title('Partial dependence of roc_mean on price', fontsize=20)"
   ]
  },
  {
   "cell_type": "code",
   "execution_count": null,
   "id": "70923840",
   "metadata": {},
   "outputs": [],
   "source": [
    "from pygam import LinearGAM, s, f # s for splines, f for factors\n",
    "import numpy as np\n",
    "\n",
    "# X = tutte le variabili eccetto il target\n",
    "X = data[['range', 'roc_mean', 'speed_margin', 'power_per_distance', 'wing_span']].values\n",
    "y = data['price'].values\n"
   ]
  },
  {
   "cell_type": "markdown",
   "id": "f408d01a",
   "metadata": {},
   "source": [
    "#### GAM model "
   ]
  },
  {
   "cell_type": "code",
   "execution_count": null,
   "id": "56476b2a",
   "metadata": {},
   "outputs": [],
   "source": [
    "gam = LinearGAM(\n",
    "    s(0) +               # range\n",
    "    s(1) +               # roc_mean\n",
    "    f(2) +               # speed_margin\n",
    "    s(3) +               # power_per_distance\n",
    "    s(4)                 # wing_span\n",
    ")\n"
   ]
  },
  {
   "cell_type": "markdown",
   "id": "530b8f85",
   "metadata": {},
   "source": [
    "#### Smoothing with grid search for lambda"
   ]
  },
  {
   "cell_type": "code",
   "execution_count": null,
   "id": "2e543f20",
   "metadata": {},
   "outputs": [],
   "source": [
    "gam.gridsearch(X, y)\n"
   ]
  },
  {
   "cell_type": "code",
   "execution_count": null,
   "id": "9ba94ca7",
   "metadata": {},
   "outputs": [],
   "source": [
    "print(gam.summary())\n"
   ]
  },
  {
   "cell_type": "code",
   "execution_count": null,
   "id": "bcf3e77e",
   "metadata": {},
   "outputs": [],
   "source": [
    "import numpy as np\n",
    "import pandas as pd\n",
    "import matplotlib.pyplot as plt\n",
    "from pygam import LinearGAM, s, f\n",
    "\n",
    "# 1) Definizione del target e dei predittori\n",
    "y = data['price'].values\n",
    "predictors = ['range', 'roc_mean', 'speed_margin', 'power_per_distance', 'wing_span']\n",
    "X = data[predictors].to_numpy()\n",
    "\n",
    "# 2) Costruzione del modello: spline per le variabili numeriche, fattoriale per speed_margin\n",
    "gam = LinearGAM(\n",
    "    s(0) +    # range\n",
    "    s(1) +    # roc_mean\n",
    "    f(2) +    # speed_margin (categorica)\n",
    "    s(3) +    # power_per_distance\n",
    "    s(4)      # wing_span\n",
    ")\n",
    "\n",
    "# 3) Ricerca automatica dei migliori λ (può richiedere qualche secondo)\n",
    "gam.gridsearch(X, y)\n",
    "\n",
    "\n",
    "# restituisce direttamente lo explained deviance come float\n",
    "r2 = gam.score(X, y)\n",
    "print(f\"Pseudo-R²: {r2:.3f}\")\n",
    "\n",
    "#summary\n",
    "print(gam.summary())\n",
    "\n",
    "\n",
    "\n",
    "\n"
   ]
  },
  {
   "cell_type": "code",
   "execution_count": null,
   "id": "49d981dd",
   "metadata": {},
   "outputs": [],
   "source": [
    "import matplotlib.pyplot as plt\n",
    "\n",
    "# Your predictors, in the same order as the indices in the GAM terms\n",
    "predictors = ['range', 'roc_mean', 'speed_margin', 'power_per_distance', 'wing_span']\n",
    "\n",
    "# Number of non-intercept terms\n",
    "n_terms = len(predictors)\n",
    "\n",
    "fig, axes = plt.subplots(n_terms, 1, figsize=(8, 4 * n_terms))\n",
    "for idx, var in enumerate(predictors, start=0):  # Start from 0 to match term indices\n",
    "    if idx == 0:  # Skip the intercept term\n",
    "        continue\n",
    "    ax = axes[idx - 1]\n",
    "    # Generate the grid for term idx (1…n_terms)\n",
    "    XX = gam.generate_X_grid(term=idx)\n",
    "    # Calculate partial dependence and confidence intervals\n",
    "    pdep, confi = gam.partial_dependence(term=idx, X=XX, width=0.95)\n",
    "    # The x-axis corresponds to the values of the variable\n",
    "    xvals = XX[:, idx]\n",
    "\n",
    "    ax.plot(xvals, pdep, 'b-', linewidth=2, label='Fit')\n",
    "    ax.plot(xvals, confi[:, 0], 'r--', linewidth=1.5, label='Lower 95% CI')\n",
    "    ax.plot(xvals, confi[:, 1], 'r--', linewidth=1.5, label='Upper 95% CI')\n",
    "    ax.set_title(f'Partial dependence of {var}', fontsize=14)\n",
    "    ax.set_xlabel(var, fontsize=12)\n",
    "    ax.set_ylabel('Effect on price', fontsize=12)\n",
    "    ax.legend()\n",
    "\n",
    "plt.tight_layout()\n",
    "plt.show()\n",
    "\n",
    "\n",
    "# Compute and print RMSE on the training data\n",
    "y_pred = gam.predict(X)\n",
    "rmse = np.sqrt(np.mean((y - y_pred) ** 2))\n",
    "print(f\"RMSE: {rmse:.3f}\")\n",
    "\n",
    "#print RMSE delogged\n",
    "y_pred = np.exp(y_pred)\n",
    "y = np.exp(y)\n",
    "rmse = np.sqrt(np.mean((y - y_pred) ** 2))\n",
    "print(f\"RMSE: {rmse:.3f}\")"
   ]
  },
  {
   "cell_type": "markdown",
   "id": "b7ec0ee8",
   "metadata": {},
   "source": [
    "Ecco un’interpretazione dei quattro partial-dependence plots che hai ottenuto (su `roc_mean`, `speed_margin`, `power_per_distance` e `wing_span`), tutti espressi come “effetto sul prezzo” a parità delle altre variabili:\n",
    "\n",
    "---\n",
    "\n",
    "### 1. `roc_mean`  \n",
    "![roc_mean](attachment)  \n",
    "- **Andamento monotono-convesso**: per valori bassi di `roc_mean` (300–1 500) l’effetto sul prezzo parte intorno a +0.3–0.4 e cresce in modo regolare.  \n",
    "- **Punto di massima sensibilità** intorno a 4 000–5 000, dove l’effetto raggiunge quasi +0.9 sul prezzo (in scala logaritmica).  \n",
    "- **Caduta rapida** oltre 6 000: sembra che un `roc_mean` troppo elevato riduca nuovamente l’effetto sul prezzo.  \n",
    "- **Bande di confidenza** strette (rosse), quindi questa curva è stimata con buona precisione.\n",
    "\n",
    "---\n",
    "\n",
    "### 2. `speed_margin`  \n",
    "![speed_margin](attachment)  \n",
    "- **Effetto complessivamente vicino a zero**: la linea blu oscilla intorno allo 0, con variazioni fra –0.1 e +0.1.  \n",
    "- **Ampiezza delle CI molto elevata**: le bande rosse sono larghe, segno di forte incertezza.  \n",
    "- **Nessuna tendenza evidente**: non c’è un chiaro pattern crescente o decrescente.  \n",
    "- **Conclusione**: `speed_margin` non sembra spiegare in modo significativo le variazioni di prezzo, oppure meriterebbe un’ulteriore codifica (magari trattarlo davvero da categorico con poche classi).\n",
    "\n",
    "---\n",
    "\n",
    "### 3. `power_per_distance`  \n",
    "![power_per_distance](attachment)  \n",
    "- **Crescita iniziale**: da 0 a ~1 l’effetto sale rapidamente da +0.35 a +0.7.  \n",
    "- **Piccolo calo** attorno a 2–3 (effetto che scende vicino a +0.55–0.6).  \n",
    "- **Ripresa finale** oltre 4, con l’effetto che risale verso +0.8 quando `power_per_distance` è massimo.  \n",
    "- **Interpretazione**: un contributo complesso non-monotono: prezzi più alti sia per consumi estremamente bassi (efficienza alta) sia per consumi più alti, con un “minimo” intermedio.\n",
    "\n",
    "---\n",
    "\n",
    "### 4. `wing_span`  \n",
    "![wing_span](attachment)  \n",
    "- **Salita dolce** fra 200 e ~800: l’effetto sale da circa +0.5 a +0.75.  \n",
    "- **Plateau/debole flessione** dopo 900–1 000, con l’effetto che si stabilizza intorno a +0.65–0.7 per alias di apertura molto grandi.  \n",
    "- **Bande di confidenza moderate**: il fit è abbastanza certo, ma con un po’ di incertezza alle code.  \n",
    "- **Interpretazione**: ali con apertura intermedia (intorno a 800) massimizzano il contributo al prezzo; aperture troppo piccole o troppo grandi riducono leggermente l’effetto.\n",
    "\n",
    "---\n",
    "\n",
    "## 💡 Conclusioni generali\n",
    "\n",
    "- **`roc_mean`** è il predittore più forte e ben definito (curve liscia, CI strette).  \n",
    "- **`speed_margin`** ha scarso potere esplicativo così com’è codificato.  \n",
    "- **`power_per_distance`** e **`wing_span`** mostrano relazioni non monotone, indicando che l’effetto sul prezzo varia in modo non banale: in entrambi i casi esiste un “punto di massimo” nel mezzo del range.  \n",
    "\n",
    "Se vuoi semplificare ulteriormente o migliorare l’accuratezza, potresti:\n",
    "1. Ridurre il numero di spline per i termini con alta varianza (es. `speed_margin`).  \n",
    "2. Rivedere la codifica di `speed_margin` (magari trasformarla in pochi gruppi).  \n",
    "3. Raffinare i gradi di libertà (λ) tramite `gridsearch` o AIC.  \n",
    "\n",
    "Fammi sapere se vuoi approfondire qualche aspetto in particolare!"
   ]
  },
  {
   "cell_type": "code",
   "execution_count": null,
   "id": "076969fb",
   "metadata": {},
   "outputs": [],
   "source": []
  }
 ],
 "metadata": {
  "kernelspec": {
   "display_name": "StatLearning-env",
   "language": "python",
   "name": "python3"
  },
  "language_info": {
   "codemirror_mode": {
    "name": "ipython",
    "version": 3
   },
   "file_extension": ".py",
   "mimetype": "text/x-python",
   "name": "python",
   "nbconvert_exporter": "python",
   "pygments_lexer": "ipython3",
   "version": "3.12.9"
  }
 },
 "nbformat": 4,
 "nbformat_minor": 5
}
