{
 "cells": [
  {
   "cell_type": "markdown",
   "id": "dc6af7e9",
   "metadata": {},
   "source": [
    "# Linear Models"
   ]
  },
  {
   "cell_type": "code",
   "execution_count": 641,
   "id": "64f16693",
   "metadata": {},
   "outputs": [],
   "source": [
    "# Librerie base\n",
    "import numpy as np\n",
    "import pandas as pd\n",
    "\n",
    "# Visualizzazione\n",
    "import matplotlib.pyplot as plt  \n",
    "import seaborn as sns\n",
    "\n",
    "# Modelli statistici\n",
    "import statsmodels.api as sm\n",
    "from statsmodels.stats.outliers_influence import variance_inflation_factor as VIF\n",
    "from statsmodels.stats.anova import anova_lm\n",
    "\n",
    "# Libreria ISLP (Statistical Learning)\n",
    "from ISLP import load_data\n",
    "from ISLP.models import (ModelSpec as MS ,summarize, poly)"
   ]
  },
  {
   "cell_type": "markdown",
   "id": "3bc5bec5",
   "metadata": {},
   "source": [
    "### usiamo i dati engineered con log-price"
   ]
  },
  {
   "cell_type": "code",
   "execution_count": 642,
   "id": "d2f12509",
   "metadata": {},
   "outputs": [
    {
     "data": {
      "text/plain": [
       "Index(['price', 'roc_mean', 'speed_margin', 'power_per_distance', 'wing_span',\n",
       "       'range'],\n",
       "      dtype='object')"
      ]
     },
     "execution_count": 642,
     "metadata": {},
     "output_type": "execute_result"
    }
   ],
   "source": [
    "data=pd.read_csv(\"Data/aircraft_price_Engineered.csv\")\n",
    "data.columns"
   ]
  },
  {
   "cell_type": "code",
   "execution_count": 643,
   "id": "dc896f7f",
   "metadata": {},
   "outputs": [
    {
     "data": {
      "text/html": [
       "<div>\n",
       "<style scoped>\n",
       "    .dataframe tbody tr th:only-of-type {\n",
       "        vertical-align: middle;\n",
       "    }\n",
       "\n",
       "    .dataframe tbody tr th {\n",
       "        vertical-align: top;\n",
       "    }\n",
       "\n",
       "    .dataframe thead th {\n",
       "        text-align: right;\n",
       "    }\n",
       "</style>\n",
       "<table border=\"1\" class=\"dataframe\">\n",
       "  <thead>\n",
       "    <tr style=\"text-align: right;\">\n",
       "      <th></th>\n",
       "      <th>price</th>\n",
       "      <th>roc_mean</th>\n",
       "      <th>speed_margin</th>\n",
       "      <th>power_per_distance</th>\n",
       "      <th>wing_span</th>\n",
       "      <th>range</th>\n",
       "    </tr>\n",
       "  </thead>\n",
       "  <tbody>\n",
       "    <tr>\n",
       "      <th>0</th>\n",
       "      <td>14.077876</td>\n",
       "      <td>675.0</td>\n",
       "      <td>58.0</td>\n",
       "      <td>0.111538</td>\n",
       "      <td>449.0</td>\n",
       "      <td>370.0</td>\n",
       "    </tr>\n",
       "    <tr>\n",
       "      <th>1</th>\n",
       "      <td>14.022526</td>\n",
       "      <td>660.0</td>\n",
       "      <td>45.0</td>\n",
       "      <td>0.106250</td>\n",
       "      <td>433.0</td>\n",
       "      <td>190.0</td>\n",
       "    </tr>\n",
       "    <tr>\n",
       "      <th>2</th>\n",
       "      <td>14.285515</td>\n",
       "      <td>562.5</td>\n",
       "      <td>53.0</td>\n",
       "      <td>0.105882</td>\n",
       "      <td>420.0</td>\n",
       "      <td>210.0</td>\n",
       "    </tr>\n",
       "    <tr>\n",
       "      <th>3</th>\n",
       "      <td>14.077876</td>\n",
       "      <td>560.0</td>\n",
       "      <td>51.0</td>\n",
       "      <td>0.100000</td>\n",
       "      <td>420.0</td>\n",
       "      <td>210.0</td>\n",
       "    </tr>\n",
       "    <tr>\n",
       "      <th>4</th>\n",
       "      <td>14.038655</td>\n",
       "      <td>501.0</td>\n",
       "      <td>50.0</td>\n",
       "      <td>0.073446</td>\n",
       "      <td>420.0</td>\n",
       "      <td>175.0</td>\n",
       "    </tr>\n",
       "    <tr>\n",
       "      <th>...</th>\n",
       "      <td>...</td>\n",
       "      <td>...</td>\n",
       "      <td>...</td>\n",
       "      <td>...</td>\n",
       "      <td>...</td>\n",
       "      <td>...</td>\n",
       "    </tr>\n",
       "    <tr>\n",
       "      <th>502</th>\n",
       "      <td>15.226498</td>\n",
       "      <td>2586.0</td>\n",
       "      <td>295.0</td>\n",
       "      <td>0.438596</td>\n",
       "      <td>572.0</td>\n",
       "      <td>1879.0</td>\n",
       "    </tr>\n",
       "    <tr>\n",
       "      <th>503</th>\n",
       "      <td>15.091990</td>\n",
       "      <td>2330.0</td>\n",
       "      <td>223.0</td>\n",
       "      <td>0.236609</td>\n",
       "      <td>572.0</td>\n",
       "      <td>1722.0</td>\n",
       "    </tr>\n",
       "    <tr>\n",
       "      <th>504</th>\n",
       "      <td>14.978662</td>\n",
       "      <td>2733.0</td>\n",
       "      <td>203.0</td>\n",
       "      <td>0.238648</td>\n",
       "      <td>572.0</td>\n",
       "      <td>1515.0</td>\n",
       "    </tr>\n",
       "    <tr>\n",
       "      <th>505</th>\n",
       "      <td>14.991084</td>\n",
       "      <td>2345.0</td>\n",
       "      <td>198.0</td>\n",
       "      <td>0.253475</td>\n",
       "      <td>512.0</td>\n",
       "      <td>1336.0</td>\n",
       "    </tr>\n",
       "    <tr>\n",
       "      <th>506</th>\n",
       "      <td>14.966083</td>\n",
       "      <td>2345.0</td>\n",
       "      <td>208.0</td>\n",
       "      <td>0.250000</td>\n",
       "      <td>512.0</td>\n",
       "      <td>1444.0</td>\n",
       "    </tr>\n",
       "  </tbody>\n",
       "</table>\n",
       "<p>507 rows × 6 columns</p>\n",
       "</div>"
      ],
      "text/plain": [
       "         price  roc_mean  speed_margin  power_per_distance  wing_span   range\n",
       "0    14.077876     675.0          58.0            0.111538      449.0   370.0\n",
       "1    14.022526     660.0          45.0            0.106250      433.0   190.0\n",
       "2    14.285515     562.5          53.0            0.105882      420.0   210.0\n",
       "3    14.077876     560.0          51.0            0.100000      420.0   210.0\n",
       "4    14.038655     501.0          50.0            0.073446      420.0   175.0\n",
       "..         ...       ...           ...                 ...        ...     ...\n",
       "502  15.226498    2586.0         295.0            0.438596      572.0  1879.0\n",
       "503  15.091990    2330.0         223.0            0.236609      572.0  1722.0\n",
       "504  14.978662    2733.0         203.0            0.238648      572.0  1515.0\n",
       "505  14.991084    2345.0         198.0            0.253475      512.0  1336.0\n",
       "506  14.966083    2345.0         208.0            0.250000      512.0  1444.0\n",
       "\n",
       "[507 rows x 6 columns]"
      ]
     },
     "execution_count": 643,
     "metadata": {},
     "output_type": "execute_result"
    }
   ],
   "source": [
    "numeric_data=data.select_dtypes(include=[np.number])\n",
    "numeric_data"
   ]
  },
  {
   "cell_type": "markdown",
   "id": "27c6f336",
   "metadata": {},
   "source": [
    "## Simple Linear Regression"
   ]
  },
  {
   "cell_type": "markdown",
   "id": "aa759ec0",
   "metadata": {},
   "source": [
    "### Ordering the 3 variables for the more promising"
   ]
  },
  {
   "cell_type": "code",
   "execution_count": 644,
   "id": "96a935fd",
   "metadata": {},
   "outputs": [
    {
     "name": "stdout",
     "output_type": "stream",
     "text": [
      "VARIABILI CON R² PIU' ALTO E p-value PIU BASSO:\n",
      "       variable  r_squared        p_value\n",
      "0         price   1.000000   0.000000e+00\n",
      "2  speed_margin   0.606928  1.828944e-104\n",
      "1      roc_mean   0.566798   8.651730e-94\n",
      "5         range   0.479449   1.305528e-73\n"
     ]
    }
   ],
   "source": [
    "# Target variable\n",
    "\n",
    "results = []\n",
    "target = 'price'\n",
    "\n",
    "# Looping every possible variable\n",
    "for col in numeric_data:\n",
    "    X = sm.add_constant(data[[col]])\n",
    "    y = data[target]\n",
    "    \n",
    "    model = sm.OLS(y, X).fit()\n",
    "    \n",
    "    results.append({\n",
    "        'variable': col,\n",
    "        'r_squared': model.rsquared,\n",
    "        'p_value': model.pvalues[col]\n",
    "    })\n",
    "\n",
    "# Transforming data frame\n",
    "results_df = pd.DataFrame(results)\n",
    "\n",
    "# Ordering\n",
    "top_r2_pval = results_df.sort_values(by='p_value', ascending=True).head(4)\n",
    "\n",
    "\n",
    "# Output\n",
    "print(\"VARIABILI CON R² PIU' ALTO E p-value PIU BASSO:\")\n",
    "print(top_r2_pval)"
   ]
  },
  {
   "cell_type": "markdown",
   "id": "b2247313",
   "metadata": {},
   "source": [
    "### Fit linear model price = b0 + b1*speed_margin + e"
   ]
  },
  {
   "cell_type": "code",
   "execution_count": 645,
   "id": "fe98486b",
   "metadata": {},
   "outputs": [
    {
     "data": {
      "text/html": [
       "<div>\n",
       "<style scoped>\n",
       "    .dataframe tbody tr th:only-of-type {\n",
       "        vertical-align: middle;\n",
       "    }\n",
       "\n",
       "    .dataframe tbody tr th {\n",
       "        vertical-align: top;\n",
       "    }\n",
       "\n",
       "    .dataframe thead th {\n",
       "        text-align: right;\n",
       "    }\n",
       "</style>\n",
       "<table border=\"1\" class=\"dataframe\">\n",
       "  <thead>\n",
       "    <tr style=\"text-align: right;\">\n",
       "      <th></th>\n",
       "      <th>Intercept</th>\n",
       "      <th>speed_margin</th>\n",
       "    </tr>\n",
       "  </thead>\n",
       "  <tbody>\n",
       "    <tr>\n",
       "      <th>0</th>\n",
       "      <td>1.0</td>\n",
       "      <td>58.0</td>\n",
       "    </tr>\n",
       "    <tr>\n",
       "      <th>1</th>\n",
       "      <td>1.0</td>\n",
       "      <td>45.0</td>\n",
       "    </tr>\n",
       "    <tr>\n",
       "      <th>2</th>\n",
       "      <td>1.0</td>\n",
       "      <td>53.0</td>\n",
       "    </tr>\n",
       "    <tr>\n",
       "      <th>3</th>\n",
       "      <td>1.0</td>\n",
       "      <td>51.0</td>\n",
       "    </tr>\n",
       "    <tr>\n",
       "      <th>4</th>\n",
       "      <td>1.0</td>\n",
       "      <td>50.0</td>\n",
       "    </tr>\n",
       "  </tbody>\n",
       "</table>\n",
       "</div>"
      ],
      "text/plain": [
       "   Intercept  speed_margin\n",
       "0        1.0          58.0\n",
       "1        1.0          45.0\n",
       "2        1.0          53.0\n",
       "3        1.0          51.0\n",
       "4        1.0          50.0"
      ]
     },
     "execution_count": 645,
     "metadata": {},
     "output_type": "execute_result"
    }
   ],
   "source": [
    "X= pd.DataFrame({'Intercept': np.ones(data.shape[0]), 'speed_margin': data['speed_margin']})\n",
    "X[:5]"
   ]
  },
  {
   "cell_type": "code",
   "execution_count": 646,
   "id": "003503fe",
   "metadata": {},
   "outputs": [],
   "source": [
    "y = data[target]\n",
    "model = sm.OLS(y, X) #function to fit a simple linear regression. Here we define the model\n",
    "results = model.fit() #here we fit the model"
   ]
  },
  {
   "cell_type": "code",
   "execution_count": 647,
   "id": "9a109065",
   "metadata": {},
   "outputs": [
    {
     "name": "stdout",
     "output_type": "stream",
     "text": [
      "                            OLS Regression Results                            \n",
      "==============================================================================\n",
      "Dep. Variable:                  price   R-squared:                       0.607\n",
      "Model:                            OLS   Adj. R-squared:                  0.606\n",
      "Method:                 Least Squares   F-statistic:                     779.8\n",
      "Date:                Sat, 26 Apr 2025   Prob (F-statistic):          1.83e-104\n",
      "Time:                        22:30:50   Log-Likelihood:                -33.517\n",
      "No. Observations:                 507   AIC:                             71.03\n",
      "Df Residuals:                     505   BIC:                             79.49\n",
      "Df Model:                           1                                         \n",
      "Covariance Type:            nonrobust                                         \n",
      "================================================================================\n",
      "                   coef    std err          t      P>|t|      [0.025      0.975]\n",
      "--------------------------------------------------------------------------------\n",
      "Intercept       14.1086      0.021    681.685      0.000      14.068      14.149\n",
      "speed_margin     0.0031      0.000     27.924      0.000       0.003       0.003\n",
      "==============================================================================\n",
      "Omnibus:                      100.110   Durbin-Watson:                   1.109\n",
      "Prob(Omnibus):                  0.000   Jarque-Bera (JB):              555.501\n",
      "Skew:                           0.726   Prob(JB):                    2.37e-121\n",
      "Kurtosis:                       7.918   Cond. No.                         332.\n",
      "==============================================================================\n",
      "\n",
      "Notes:\n",
      "[1] Standard Errors assume that the covariance matrix of the errors is correctly specified.\n",
      "\n",
      "Variabili significative (p-value < 0.05):\n",
      "Intercept        0.000000e+00\n",
      "speed_margin    1.828944e-104\n",
      "dtype: float64\n",
      "\n",
      "Variabili insignificanti (p-value >= 0.05):\n",
      "Series([], dtype: float64)\n"
     ]
    }
   ],
   "source": [
    "print(results.summary())\n",
    "\n",
    "significant_vars = results.pvalues[results.pvalues < 0.05]\n",
    "print(\"\\nVariabili significative (p-value < 0.05):\")\n",
    "print(significant_vars)\n",
    "\n",
    "insignificant_vars = results.pvalues[results.pvalues >= 0.05]\n",
    "print(\"\\nVariabili insignificanti (p-value >= 0.05):\")\n",
    "print(insignificant_vars)"
   ]
  },
  {
   "cell_type": "markdown",
   "id": "5ecc1479",
   "metadata": {},
   "source": [
    "### Creating the input matrix using ModelSpec of ISLP package"
   ]
  },
  {
   "cell_type": "code",
   "execution_count": 648,
   "id": "cba4dd95",
   "metadata": {},
   "outputs": [
    {
     "data": {
      "text/html": [
       "<div>\n",
       "<style scoped>\n",
       "    .dataframe tbody tr th:only-of-type {\n",
       "        vertical-align: middle;\n",
       "    }\n",
       "\n",
       "    .dataframe tbody tr th {\n",
       "        vertical-align: top;\n",
       "    }\n",
       "\n",
       "    .dataframe thead th {\n",
       "        text-align: right;\n",
       "    }\n",
       "</style>\n",
       "<table border=\"1\" class=\"dataframe\">\n",
       "  <thead>\n",
       "    <tr style=\"text-align: right;\">\n",
       "      <th></th>\n",
       "      <th>intercept</th>\n",
       "      <th>speed_margin</th>\n",
       "    </tr>\n",
       "  </thead>\n",
       "  <tbody>\n",
       "    <tr>\n",
       "      <th>0</th>\n",
       "      <td>1.0</td>\n",
       "      <td>58.0</td>\n",
       "    </tr>\n",
       "    <tr>\n",
       "      <th>1</th>\n",
       "      <td>1.0</td>\n",
       "      <td>45.0</td>\n",
       "    </tr>\n",
       "    <tr>\n",
       "      <th>2</th>\n",
       "      <td>1.0</td>\n",
       "      <td>53.0</td>\n",
       "    </tr>\n",
       "    <tr>\n",
       "      <th>3</th>\n",
       "      <td>1.0</td>\n",
       "      <td>51.0</td>\n",
       "    </tr>\n",
       "  </tbody>\n",
       "</table>\n",
       "</div>"
      ],
      "text/plain": [
       "   intercept  speed_margin\n",
       "0        1.0          58.0\n",
       "1        1.0          45.0\n",
       "2        1.0          53.0\n",
       "3        1.0          51.0"
      ]
     },
     "execution_count": 648,
     "metadata": {},
     "output_type": "execute_result"
    }
   ],
   "source": [
    "model = MS(['speed_margin'])\n",
    "model = model.fit(data) \n",
    "X = model.transform(data)\n",
    "X[:4]"
   ]
  },
  {
   "cell_type": "code",
   "execution_count": 649,
   "id": "02ecd504",
   "metadata": {},
   "outputs": [
    {
     "data": {
      "image/png": "[encoded data removed]",
      "text/plain": [
       "<Figure size 1200x600 with 2 Axes>"
      ]
     },
     "metadata": {},
     "output_type": "display_data"
    }
   ],
   "source": [
    "## plottiamo distrubizioni di price e speed_margin\n",
    "plt.figure(figsize=(12, 6))\n",
    "plt.subplot(1, 2, 1)\n",
    "sns.histplot(data['price'], bins=30, kde=True)\n",
    "plt.title('Distribution of log-Price')\n",
    "plt.subplot(1, 2, 2)\n",
    "sns.histplot(data['speed_margin'], bins=30, kde=True)\n",
    "plt.title('Distribution of Speed Margin')\n",
    "plt.show()"
   ]
  },
  {
   "cell_type": "markdown",
   "id": "752dec68",
   "metadata": {},
   "source": [
    "### Predicting the price using the model"
   ]
  },
  {
   "cell_type": "code",
   "execution_count": 650,
   "id": "dfc17c51",
   "metadata": {},
   "outputs": [
    {
     "data": {
      "text/html": [
       "<div>\n",
       "<style scoped>\n",
       "    .dataframe tbody tr th:only-of-type {\n",
       "        vertical-align: middle;\n",
       "    }\n",
       "\n",
       "    .dataframe tbody tr th {\n",
       "        vertical-align: top;\n",
       "    }\n",
       "\n",
       "    .dataframe thead th {\n",
       "        text-align: right;\n",
       "    }\n",
       "</style>\n",
       "<table border=\"1\" class=\"dataframe\">\n",
       "  <thead>\n",
       "    <tr style=\"text-align: right;\">\n",
       "      <th></th>\n",
       "      <th>intercept</th>\n",
       "      <th>speed_margin</th>\n",
       "    </tr>\n",
       "  </thead>\n",
       "  <tbody>\n",
       "    <tr>\n",
       "      <th>0</th>\n",
       "      <td>1.0</td>\n",
       "      <td>70</td>\n",
       "    </tr>\n",
       "    <tr>\n",
       "      <th>1</th>\n",
       "      <td>1.0</td>\n",
       "      <td>100</td>\n",
       "    </tr>\n",
       "    <tr>\n",
       "      <th>2</th>\n",
       "      <td>1.0</td>\n",
       "      <td>150</td>\n",
       "    </tr>\n",
       "    <tr>\n",
       "      <th>3</th>\n",
       "      <td>1.0</td>\n",
       "      <td>200</td>\n",
       "    </tr>\n",
       "  </tbody>\n",
       "</table>\n",
       "</div>"
      ],
      "text/plain": [
       "   intercept  speed_margin\n",
       "0        1.0            70\n",
       "1        1.0           100\n",
       "2        1.0           150\n",
       "3        1.0           200"
      ]
     },
     "execution_count": 650,
     "metadata": {},
     "output_type": "execute_result"
    }
   ],
   "source": [
    "# Get predictions on new input\n",
    "new_df = pd.DataFrame({'speed_margin': [70,100,150,200]})\n",
    "new_X = model.transform(new_df)  # Aggiungi una colonna di 1 per l'intercetta\n",
    "new_X"
   ]
  },
  {
   "cell_type": "code",
   "execution_count": 651,
   "id": "75a33d65",
   "metadata": {},
   "outputs": [
    {
     "name": "stdout",
     "output_type": "stream",
     "text": [
      "[14.32767786 14.42157733 14.57807644 14.73457555]\n"
     ]
    }
   ],
   "source": [
    "New_X = sm.add_constant(new_df)\n",
    "new_predictions = results.get_prediction(new_X)\n",
    "predicted_means = new_predictions.predicted_mean\n",
    "print(predicted_means)"
   ]
  },
  {
   "cell_type": "code",
   "execution_count": 652,
   "id": "d316289b",
   "metadata": {},
   "outputs": [
    {
     "data": {
      "text/plain": [
       "array([1668904.3 , 1833206.77, 2143769.82, 2506945.28])"
      ]
     },
     "execution_count": 652,
     "metadata": {},
     "output_type": "execute_result"
    }
   ],
   "source": [
    "#de-log transform of predicted means\n",
    "predicted_means = np.exp(predicted_means)\n",
    "predicted_means = np.round(predicted_means, 2)\n",
    "#stampa con due decimali\n",
    "predicted_means"
   ]
  },
  {
   "cell_type": "code",
   "execution_count": 653,
   "id": "77481ddc",
   "metadata": {},
   "outputs": [
    {
     "data": {
      "text/plain": [
       "array([[14.29854234, 14.35681338],\n",
       "       [14.39609065, 14.447064  ],\n",
       "       [14.55546282, 14.60069005],\n",
       "       [14.70976302, 14.75938808]])"
      ]
     },
     "execution_count": 653,
     "metadata": {},
     "output_type": "execute_result"
    }
   ],
   "source": [
    "#Confidence interval\n",
    "new_predictions.conf_int(alpha=0.05)"
   ]
  },
  {
   "cell_type": "code",
   "execution_count": 654,
   "id": "3e063183",
   "metadata": {},
   "outputs": [
    {
     "name": "stdout",
     "output_type": "stream",
     "text": [
      "FORMULA del modello di regressione: y = 0.0031 * speed_margin + 14.1086\n"
     ]
    }
   ],
   "source": [
    "intercept = results.params.iloc[0]  # Intercetta (b)\n",
    "slope = results.params.iloc[1]  # Pendenza (m)\n",
    "\n",
    "formula = f\"y = {slope:.4f} * speed_margin + {intercept:.4f}\"\n",
    "\n",
    "print(\"FORMULA del modello di regressione:\", formula)"
   ]
  },
  {
   "cell_type": "code",
   "execution_count": 655,
   "id": "33873c25",
   "metadata": {},
   "outputs": [
    {
     "data": {
      "image/png": "[encoded data removed]",
      "text/plain": [
       "<Figure size 640x480 with 1 Axes>"
      ]
     },
     "metadata": {},
     "output_type": "display_data"
    }
   ],
   "source": [
    "threshold = data['speed_margin'].quantile(0.95)\n",
    "\n",
    "filtered_data = data[data['speed_margin'] <= threshold]\n",
    "\n",
    "def abline(ax, b, m, *args, **kwargs):\n",
    "    \"Aggiungi una retta con pendenza m e intercetta b su ax\"\n",
    "    xlim = ax.get_xlim()\n",
    "    ylim = [m * xlim[0] + b, m * xlim[1] + b]\n",
    "    ax.plot(xlim, ylim, *args, **kwargs)\n",
    "\n",
    "ax = plt.gca()\n",
    "ax.scatter(filtered_data['speed_margin'], filtered_data[target], alpha=0.6)\n",
    "\n",
    "abline(ax, intercept, slope, 'r--', linewidth=3)\n",
    "\n",
    "plt.title(\"price vs speed_margin (ut to 95° percentile)\")\n",
    "plt.xlabel(\"speed_margin\")\n",
    "plt.ylabel(\"price\")\n",
    "plt.show()"
   ]
  },
  {
   "cell_type": "code",
   "execution_count": 656,
   "id": "0440835f",
   "metadata": {},
   "outputs": [
    {
     "data": {
      "image/png": "[encoded data removed]",
      "text/plain": [
       "<Figure size 800x800 with 1 Axes>"
      ]
     },
     "metadata": {},
     "output_type": "display_data"
    }
   ],
   "source": [
    "fitted_95 = results.fittedvalues.quantile(0.95)\n",
    "\n",
    "mask = results.fittedvalues <= fitted_95\n",
    "fitted_filtered = results.fittedvalues[mask]\n",
    "resid_filtered = results.resid[mask]\n",
    "\n",
    "fig, ax = plt.subplots(figsize=(8, 8))\n",
    "ax.scatter(fitted_filtered, resid_filtered, alpha=0.6)\n",
    "ax.set_xlabel('Fitted value')\n",
    "ax.set_ylabel('Residual')\n",
    "ax.axhline(0, c='k', ls='--')\n",
    "ax.set_title(\"Fitted vs Residuals (up to 95° percentile of fitted)\")\n",
    "plt.show()"
   ]
  },
  {
   "cell_type": "code",
   "execution_count": 657,
   "id": "fa61ddd8",
   "metadata": {},
   "outputs": [
    {
     "data": {
      "text/plain": [
       "180"
      ]
     },
     "execution_count": 657,
     "metadata": {},
     "output_type": "execute_result"
    },
    {
     "data": {
      "image/png": "[encoded data removed]",
      "text/plain": [
       "<Figure size 800x800 with 1 Axes>"
      ]
     },
     "metadata": {},
     "output_type": "display_data"
    }
   ],
   "source": [
    "# Compute leverage statistics\n",
    "infl = results.get_influence()\n",
    "ax = plt.subplots(figsize=(8,8))[1]\n",
    "ax.scatter(np.arange(X.shape[0]), infl.hat_matrix_diag)\n",
    "ax.set_xlabel('Index')\n",
    "ax.set_ylabel('Leverage')\n",
    "np.argmax(infl.hat_matrix_diag)"
   ]
  },
  {
   "cell_type": "markdown",
   "id": "f6ba4960",
   "metadata": {},
   "source": [
    "## Multiple Linear Regression"
   ]
  },
  {
   "cell_type": "code",
   "execution_count": 658,
   "id": "44673a27",
   "metadata": {},
   "outputs": [
    {
     "name": "stdout",
     "output_type": "stream",
     "text": [
      "Index(['roc_mean', 'speed_margin', 'power_per_distance', 'wing_span', 'range'], dtype='object')\n"
     ]
    }
   ],
   "source": [
    "# y = b*X + e (perform a regression using all of the predictors)\n",
    "numeric_data = data.select_dtypes(include=[np.number])\n",
    "terms = numeric_data.drop(columns=[target])\n",
    "print(terms.columns)"
   ]
  },
  {
   "cell_type": "code",
   "execution_count": 659,
   "id": "87550275",
   "metadata": {},
   "outputs": [
    {
     "name": "stdout",
     "output_type": "stream",
     "text": [
      "                            OLS Regression Results                            \n",
      "==============================================================================\n",
      "Dep. Variable:                  price   R-squared:                       0.715\n",
      "Model:                            OLS   Adj. R-squared:                  0.712\n",
      "Method:                 Least Squares   F-statistic:                     251.5\n",
      "Date:                Sat, 26 Apr 2025   Prob (F-statistic):          4.47e-134\n",
      "Time:                        22:30:51   Log-Likelihood:                 48.097\n",
      "No. Observations:                 507   AIC:                            -84.19\n",
      "Df Residuals:                     501   BIC:                            -58.82\n",
      "Df Model:                           5                                         \n",
      "Covariance Type:            nonrobust                                         \n",
      "======================================================================================\n",
      "                         coef    std err          t      P>|t|      [0.025      0.975]\n",
      "--------------------------------------------------------------------------------------\n",
      "intercept             13.6422      0.064    212.544      0.000      13.516      13.768\n",
      "roc_mean               0.0001   1.46e-05      8.298      0.000    9.25e-05       0.000\n",
      "speed_margin           0.0018      0.000     10.517      0.000       0.001       0.002\n",
      "power_per_distance    -0.2124      0.032     -6.692      0.000      -0.275      -0.150\n",
      "wing_span              0.0009      0.000      5.538      0.000       0.001       0.001\n",
      "range                  0.0001   2.66e-05      4.989      0.000    8.04e-05       0.000\n",
      "==============================================================================\n",
      "Omnibus:                       35.129   Durbin-Watson:                   1.148\n",
      "Prob(Omnibus):                  0.000   Jarque-Bera (JB):               94.558\n",
      "Skew:                          -0.306   Prob(JB):                     2.93e-21\n",
      "Kurtosis:                       5.025   Cond. No.                     1.68e+04\n",
      "==============================================================================\n",
      "\n",
      "Notes:\n",
      "[1] Standard Errors assume that the covariance matrix of the errors is correctly specified.\n",
      "[2] The condition number is large, 1.68e+04. This might indicate that there are\n",
      "strong multicollinearity or other numerical problems.\n"
     ]
    }
   ],
   "source": [
    "X= MS(terms).fit_transform(data) \n",
    "model= sm.OLS(y,X)\n",
    "results= model.fit()\n",
    "print(results.summary())"
   ]
  },
  {
   "cell_type": "markdown",
   "id": "387f280b",
   "metadata": {},
   "source": [
    "### **Commento**: abbiamo stime più robuste e interpretabili rispetto al modello con price non in log. Si perde un po’ di R² (0.78 → 0.72), ma si guadagna in stabilità"
   ]
  },
  {
   "cell_type": "code",
   "execution_count": 660,
   "id": "91e1c624",
   "metadata": {},
   "outputs": [
    {
     "name": "stdout",
     "output_type": "stream",
     "text": [
      "\n",
      "Variabili significative (p-value < 0.05):\n",
      "intercept             0.000000e+00\n",
      "roc_mean              9.847166e-16\n",
      "speed_margin          1.643437e-23\n",
      "power_per_distance    5.906934e-11\n",
      "wing_span             4.941053e-08\n",
      "range                 8.371435e-07\n",
      "dtype: float64\n",
      "\n",
      "Variabili insignificanti (p-value >= 0.05):\n",
      "Series([], dtype: float64)\n"
     ]
    }
   ],
   "source": [
    "significant_vars = results.pvalues[results.pvalues < 0.05]\n",
    "print(\"\\nVariabili significative (p-value < 0.05):\")\n",
    "print(significant_vars)\n",
    "\n",
    "insignificant_vars = results.pvalues[results.pvalues >= 0.05]\n",
    "print(\"\\nVariabili insignificanti (p-value >= 0.05):\")\n",
    "print(insignificant_vars)"
   ]
  },
  {
   "cell_type": "markdown",
   "id": "7e680e70",
   "metadata": {},
   "source": [
    "#### Ottimo feature engineering e selection : non abbiamo feeatures con pvalue non significativo\n"
   ]
  },
  {
   "cell_type": "code",
   "execution_count": 661,
   "id": "f011b2d1",
   "metadata": {},
   "outputs": [
    {
     "name": "stdout",
     "output_type": "stream",
     "text": [
      "R2 0.7151267351223651\n",
      "RSE 0.22138512729994717\n"
     ]
    }
   ],
   "source": [
    "# getting goodness of fit\n",
    "print(\"R2\", results.rsquared)\n",
    "print(\"RSE\", np.sqrt(results.scale))"
   ]
  },
  {
   "cell_type": "code",
   "execution_count": 662,
   "id": "a27b4982",
   "metadata": {},
   "outputs": [
    {
     "name": "stdout",
     "output_type": "stream",
     "text": [
      "RSE 523060.9231207533\n"
     ]
    }
   ],
   "source": [
    "#RSE delog-transformato\n",
    "RSE_delog = np.sqrt(results.scale) * np.mean(np.exp(data[target]))\n",
    "print(\"RSE\", RSE_delog)"
   ]
  },
  {
   "cell_type": "code",
   "execution_count": 663,
   "id": "bf3d0dc0",
   "metadata": {},
   "outputs": [
    {
     "name": "stdout",
     "output_type": "stream",
     "text": [
      "            Regressor        VIF\n",
      "0           intercept  42.617013\n",
      "5               range   3.534268\n",
      "3  power_per_distance   3.338458\n",
      "2        speed_margin   3.202497\n",
      "1            roc_mean   2.966725\n",
      "4           wing_span   2.558280\n"
     ]
    }
   ],
   "source": [
    "#VIF su regressione lineare multipla su X\n",
    "X = sm.add_constant(X)\n",
    "vif_data = pd.DataFrame()\n",
    "vif_data[\"Regressor\"] = X.columns\n",
    "vif_data[\"VIF\"] = [VIF(X.values, i) for i in range(X.shape[1])]\n",
    "vif_data = vif_data.sort_values(\"VIF\", ascending=False)\n",
    "print(vif_data)"
   ]
  },
  {
   "cell_type": "markdown",
   "id": "12edd0c7",
   "metadata": {},
   "source": [
    "# 80-20 Cross Validation"
   ]
  },
  {
   "cell_type": "code",
   "execution_count": 664,
   "id": "a169cd84",
   "metadata": {},
   "outputs": [],
   "source": [
    "from functools import partial\n",
    "from sklearn.model_selection import (cross_validate ,KFold ,ShuffleSplit)\n",
    "from sklearn.base import clone\n",
    "from ISLP.models import sklearn_sm #a wrapper that enables us to easily use the cross-validation tools of sklearn with models fit by statsmodels\n",
    "from sklearn.model_selection import train_test_split"
   ]
  },
  {
   "cell_type": "code",
   "execution_count": 665,
   "id": "9b9dea5a",
   "metadata": {},
   "outputs": [],
   "source": [
    "data_train, data_test = train_test_split(data, test_size=0.1, random_state=42)\n",
    "# random_state is needed for reproducible result across run"
   ]
  },
  {
   "cell_type": "code",
   "execution_count": 666,
   "id": "21c708c0",
   "metadata": {},
   "outputs": [
    {
     "name": "stdout",
     "output_type": "stream",
     "text": [
      "                            OLS Regression Results                            \n",
      "==============================================================================\n",
      "Dep. Variable:                  price   R-squared:                       0.711\n",
      "Model:                            OLS   Adj. R-squared:                  0.708\n",
      "Method:                 Least Squares   F-statistic:                     221.1\n",
      "Date:                Sat, 26 Apr 2025   Prob (F-statistic):          9.54e-119\n",
      "Time:                        22:30:51   Log-Likelihood:                 37.669\n",
      "No. Observations:                 456   AIC:                            -63.34\n",
      "Df Residuals:                     450   BIC:                            -38.60\n",
      "Df Model:                           5                                         \n",
      "Covariance Type:            nonrobust                                         \n",
      "======================================================================================\n",
      "                         coef    std err          t      P>|t|      [0.025      0.975]\n",
      "--------------------------------------------------------------------------------------\n",
      "intercept             13.6403      0.068    200.506      0.000      13.507      13.774\n",
      "roc_mean               0.0001   1.54e-05      7.451      0.000    8.46e-05       0.000\n",
      "speed_margin           0.0019      0.000     10.219      0.000       0.002       0.002\n",
      "power_per_distance    -0.2187      0.035     -6.318      0.000      -0.287      -0.151\n",
      "wing_span              0.0009      0.000      5.276      0.000       0.001       0.001\n",
      "range                  0.0001   2.84e-05      4.523      0.000    7.26e-05       0.000\n",
      "==============================================================================\n",
      "Omnibus:                       30.513   Durbin-Watson:                   2.018\n",
      "Prob(Omnibus):                  0.000   Jarque-Bera (JB):               81.623\n",
      "Skew:                          -0.282   Prob(JB):                     1.89e-18\n",
      "Kurtosis:                       4.995   Cond. No.                     1.67e+04\n",
      "==============================================================================\n",
      "\n",
      "Notes:\n",
      "[1] Standard Errors assume that the covariance matrix of the errors is correctly specified.\n",
      "[2] The condition number is large, 1.67e+04. This might indicate that there are\n",
      "strong multicollinearity or other numerical problems.\n"
     ]
    }
   ],
   "source": [
    "# Fit a linear regression model\n",
    "from ISLP.models import ModelSpec as MS\n",
    "import statsmodels.api as sm\n",
    "\n",
    "# Ensure all required variables are defined\n",
    "terms = data.select_dtypes(include=[np.number]).drop(columns=[target])\n",
    "X = MS(terms.columns.tolist()).fit_transform(data)\n",
    "X_train = MS(terms.columns.tolist()).fit_transform(data_train)\n",
    "X_test = MS(terms.columns.tolist()).fit_transform(data_test)\n",
    "y_train = data_train[target]\n",
    "y_test = data_test[target]\n",
    "\n",
    "# Fit the model\n",
    "model = sm.OLS(y_train, X_train)\n",
    "results = model.fit()\n",
    "\n",
    "# Print the summary\n",
    "print(results.summary())\n"
   ]
  },
  {
   "cell_type": "code",
   "execution_count": 667,
   "id": "0bb5106c",
   "metadata": {},
   "outputs": [
    {
     "name": "stdout",
     "output_type": "stream",
     "text": [
      "R-squared on test set: 0.7107\n"
     ]
    }
   ],
   "source": [
    "# Predict on the test set\n",
    "y_pred = results.predict(X_test)\n",
    "# Calculate R-squared\n",
    "r_squared = results.rsquared\n",
    "print(f\"R-squared on test set: {r_squared:.4f}\")"
   ]
  },
  {
   "cell_type": "markdown",
   "id": "230fceda",
   "metadata": {},
   "source": [
    "### Notare che riducendo test_size a 0.1 il test set diventa più piccolo e la stima di R² può risultare leggermente più bassa e più variabile a causa della distribuzione dei dati del dataset. Per ottenere una valutazione più stabile e robusta delle prestazioni, di seguito utilizzeremo la KFold cross-validation.\n"
   ]
  },
  {
   "cell_type": "markdown",
   "id": "f7c639e9",
   "metadata": {},
   "source": [
    "# K=10 Fold Cross Validation"
   ]
  },
  {
   "cell_type": "markdown",
   "id": "2ed9f416",
   "metadata": {},
   "source": [
    "## codice libro ISLP"
   ]
  },
  {
   "cell_type": "code",
   "execution_count": 668,
   "id": "abae3cde",
   "metadata": {},
   "outputs": [
    {
     "name": "stdout",
     "output_type": "stream",
     "text": [
      "0.6816317708340561\n"
     ]
    }
   ],
   "source": [
    "from sklearn.linear_model import LinearRegression\n",
    "\n",
    "# definiamo modello e dati\n",
    "model = LinearRegression()\n",
    "X = data.drop(columns=['price'])\n",
    "Y = numeric_data['price']\n",
    "\n",
    "# 10‐fold CV\n",
    "kf = KFold(n_splits=10, shuffle=True, random_state=1)\n",
    "cv_results = cross_validate(model, X, Y, cv=kf)\n",
    "\n",
    "# errore medio (qui R² medio)\n",
    "cv_err = np.mean(cv_results['test_score'])\n",
    "print(cv_err)"
   ]
  },
  {
   "cell_type": "markdown",
   "id": "aaf491a2",
   "metadata": {},
   "source": [
    "## codice alternativo per K=10 Fold Cross Validation e mostrare i risultati"
   ]
  },
  {
   "cell_type": "code",
   "execution_count": 669,
   "id": "4e1e061a",
   "metadata": {},
   "outputs": [
    {
     "name": "stdout",
     "output_type": "stream",
     "text": [
      "=== K-Fold CV Metrics ===\n",
      "R² mean = 0.6816 ± 0.1019\n",
      "MSE mean = 0.0519 ± 0.0187\n",
      "\n",
      "=== Inferential Summary (aggregato sui 10 train-fold) ===\n",
      "                    coef_mean  coef_std   se_mean      t_mean        p_mean  \\\n",
      "intercept           13.641785  0.014195  0.067602  201.851119  0.000000e+00   \n",
      "roc_mean             0.000121  0.000011  0.000015    7.815464  2.451717e-11   \n",
      "speed_margin         0.001813  0.000177  0.000181    9.986432  0.000000e+00   \n",
      "power_per_distance  -0.211982  0.013966  0.033565   -6.334733  2.609367e-08   \n",
      "wing_span            0.000851  0.000043  0.000162    5.258761  4.012621e-07   \n",
      "range                0.000133  0.000010  0.000028    4.727239  7.959931e-06   \n",
      "\n",
      "                      CI95_lo    CI95_hi  \n",
      "intercept           13.509286  13.774285  \n",
      "roc_mean             0.000090   0.000151  \n",
      "speed_margin         0.001458   0.002168  \n",
      "power_per_distance  -0.277769  -0.146196  \n",
      "wing_span            0.000534   0.001168  \n",
      "range                0.000078   0.000187  \n"
     ]
    }
   ],
   "source": [
    "import numpy as np\n",
    "import pandas as pd\n",
    "from scipy import stats\n",
    "from sklearn.linear_model import LinearRegression\n",
    "from sklearn.metrics import r2_score, mean_squared_error\n",
    "from sklearn.model_selection import KFold, cross_validate\n",
    "\n",
    "# --- 1) Prepara dati e CV ---\n",
    "X = data.drop(columns=['price'])\n",
    "y = numeric_data['price']\n",
    "kf = KFold(n_splits=10, shuffle=True, random_state=1)\n",
    "\n",
    "# strutture per raccogliere inferenza e metriche\n",
    "coef_list, se_list, t_list, p_list, ci_lo_list, ci_hi_list = [], [], [], [], [], []\n",
    "r2_list, mse_list = [], []\n",
    "\n",
    "# --- 2) Loop sui fold ---\n",
    "for train_idx, test_idx in kf.split(X):\n",
    "    X_tr, X_te = X.iloc[train_idx], X.iloc[test_idx]\n",
    "    y_tr, y_te = y.iloc[train_idx], y.iloc[test_idx]\n",
    "\n",
    "    # fit sul train\n",
    "    model = LinearRegression().fit(X_tr, y_tr)\n",
    "    y_pred_tr = model.predict(X_tr)\n",
    "    y_pred_te = model.predict(X_te)\n",
    "\n",
    "    # inferenza sul train\n",
    "    n_tr, p = X_tr.shape\n",
    "    resid = y_tr - y_pred_tr\n",
    "    sigma2 = np.sum(resid**2) / (n_tr - p - 1)\n",
    "\n",
    "    X_int = np.column_stack((np.ones(n_tr), X_tr.values))\n",
    "    cov = sigma2 * np.linalg.inv(X_int.T @ X_int)\n",
    "    se    = np.sqrt(np.diag(cov))\n",
    "    coef  = np.concatenate(([model.intercept_], model.coef_))\n",
    "    tstat = coef / se\n",
    "    pval  = 2 * (1 - stats.t.cdf(np.abs(tstat), df=n_tr - p - 1))\n",
    "    ci    = np.vstack((coef - 1.96*se, coef + 1.96*se)).T\n",
    "\n",
    "    # raccogli inferenza\n",
    "    coef_list .append(coef)\n",
    "    se_list   .append(se)\n",
    "    t_list    .append(tstat)\n",
    "    p_list    .append(pval)\n",
    "    ci_lo_list.append(ci[:,0])\n",
    "    ci_hi_list.append(ci[:,1])\n",
    "\n",
    "    # raccogli metriche sul test\n",
    "    r2_list .append(r2_score(y_te, y_pred_te))\n",
    "    mse_list.append(mean_squared_error(y_te, y_pred_te))\n",
    "\n",
    "# --- 3) Aggrega risultati inferenziali ---\n",
    "coef_arr  = np.vstack(coef_list)\n",
    "se_arr    = np.vstack(se_list)\n",
    "t_arr     = np.vstack(t_list)\n",
    "p_arr     = np.vstack(p_list)\n",
    "ci_lo_arr = np.vstack(ci_lo_list)\n",
    "ci_hi_arr = np.vstack(ci_hi_list)\n",
    "\n",
    "idx = ['intercept'] + list(X.columns)\n",
    "infer_df = pd.DataFrame({\n",
    "    'coef_mean':  coef_arr.mean(axis=0),\n",
    "    'coef_std':   coef_arr.std(axis=0),\n",
    "    'se_mean':    se_arr.mean(axis=0),\n",
    "    't_mean':     t_arr.mean(axis=0),\n",
    "    'p_mean':     p_arr.mean(axis=0),\n",
    "    'CI95_lo':    ci_lo_arr.mean(axis=0),\n",
    "    'CI95_hi':    ci_hi_arr.mean(axis=0),\n",
    "}, index=idx)\n",
    "\n",
    "# --- 4) Metriche CV ---\n",
    "cv_metrics = {\n",
    "    'R2_mean':  np.mean(r2_list),\n",
    "    'R2_std':   np.std(r2_list),\n",
    "    'MSE_mean': np.mean(mse_list),\n",
    "    'MSE_std':  np.std(mse_list)\n",
    "}\n",
    "\n",
    "# --- 5) Stampa ---\n",
    "print(\"=== K-Fold CV Metrics ===\")\n",
    "print(f\"R² mean = {cv_metrics['R2_mean']:.4f} ± {cv_metrics['R2_std']:.4f}\")\n",
    "print(f\"MSE mean = {cv_metrics['MSE_mean']:.4f} ± {cv_metrics['MSE_std']:.4f}\\n\")\n",
    "\n",
    "print(\"=== Inferential Summary (aggregato sui 10 train-fold) ===\")\n",
    "print(infer_df)\n"
   ]
  },
  {
   "cell_type": "markdown",
   "id": "9f524344",
   "metadata": {},
   "source": [
    "Ovviamente con la crossvalidazione perdo un po’ di R²."
   ]
  },
  {
   "cell_type": "markdown",
   "id": "ec3b597b",
   "metadata": {},
   "source": [
    "## Stepforward Regression using Cp"
   ]
  },
  {
   "cell_type": "markdown",
   "id": "0225544e",
   "metadata": {},
   "source": [
    "useremo tutte le variabili e ci penserà la stepforward regression a selezionare le variabili più significative"
   ]
  },
  {
   "cell_type": "code",
   "execution_count": 670,
   "id": "f2159e16",
   "metadata": {},
   "outputs": [],
   "source": [
    "from statsmodels .api import OLS\n",
    "import sklearn. model_selection as skm\n",
    "import sklearn. linear_model as skl\n",
    "from sklearn. preprocessing import StandardScaler\n",
    "from ISLP import load_data\n",
    "from ISLP.models import ModelSpec as MS\n",
    "from functools import partial\n",
    "from sklearn. pipeline import Pipeline\n",
    "from sklearn. decomposition import PCA\n",
    "from sklearn. cross_decomposition import PLSRegression\n",
    "from ISLP.models import \\\n",
    "(Stepwise ,\n",
    "sklearn_selected ,\n",
    "sklearn_selection_path )"
   ]
  },
  {
   "cell_type": "code",
   "execution_count": 671,
   "id": "62c63dd7",
   "metadata": {},
   "outputs": [],
   "source": [
    "## data\n",
    "data= pd.read_csv(\"Data/aircraft_price_clean.csv\")"
   ]
  },
  {
   "cell_type": "code",
   "execution_count": 672,
   "id": "5af2a964",
   "metadata": {},
   "outputs": [
    {
     "name": "stdout",
     "output_type": "stream",
     "text": [
      "<class 'pandas.core.frame.DataFrame'>\n",
      "RangeIndex: 507 entries, 0 to 506\n",
      "Data columns (total 16 columns):\n",
      " #   Column            Non-Null Count  Dtype  \n",
      "---  ------            --------------  -----  \n",
      " 0   model_name        507 non-null    object \n",
      " 1   engine_type       507 non-null    object \n",
      " 2   engine_power      507 non-null    float64\n",
      " 3   max_speed         507 non-null    float64\n",
      " 4   cruise_speed      507 non-null    float64\n",
      " 5   stall_speed       507 non-null    float64\n",
      " 6   fuel_tank         507 non-null    float64\n",
      " 7   all_eng_roc       507 non-null    float64\n",
      " 8   out_eng_roc       507 non-null    float64\n",
      " 9   takeoff_distance  507 non-null    float64\n",
      " 10  landing_distance  507 non-null    float64\n",
      " 11  empty_weight      507 non-null    float64\n",
      " 12  length            507 non-null    float64\n",
      " 13  wing_span         507 non-null    float64\n",
      " 14  range             507 non-null    float64\n",
      " 15  price             507 non-null    float64\n",
      "dtypes: float64(14), object(2)\n",
      "memory usage: 63.5+ KB\n"
     ]
    }
   ],
   "source": [
    "data.info()"
   ]
  },
  {
   "cell_type": "code",
   "execution_count": 673,
   "id": "33971658",
   "metadata": {},
   "outputs": [],
   "source": [
    "def nCp(sigma2 , estimator , X, Y):\n",
    "    # Calcola il numero di parametri stimati\n",
    "    n, p = X.shape\n",
    "    Yhat = estimator .predict(X)\n",
    "    RSS = np.sum ((Y - Yhat)**2)\n",
    "    return -(RSS + 2 * p * sigma2) / n"
   ]
  },
  {
   "cell_type": "markdown",
   "id": "a3180e8f",
   "metadata": {},
   "source": [
    "### ⚠️ price non è log transformed dunque la log trasformo"
   ]
  },
  {
   "cell_type": "code",
   "execution_count": 674,
   "id": "b47299f6",
   "metadata": {},
   "outputs": [],
   "source": [
    "#log transform of price\n",
    "data['price'] = np.log(data['price'])"
   ]
  },
  {
   "cell_type": "code",
   "execution_count": 675,
   "id": "e4b414aa",
   "metadata": {},
   "outputs": [],
   "source": [
    "# Exclude non-numeric columns\n",
    "numeric_columns = data.select_dtypes(include=[np.number]).columns.drop('price')\n",
    "design = MS(numeric_columns).fit(data)\n",
    "\n",
    "# Prepare the target and feature matrices\n",
    "Y = np.array(data['price'])\n",
    "X = design.transform(data)\n",
    "\n",
    "# Fit the OLS model\n",
    "sigma2 = OLS(Y, X).fit()"
   ]
  },
  {
   "cell_type": "code",
   "execution_count": 676,
   "id": "25970abf",
   "metadata": {},
   "outputs": [],
   "source": [
    "neg_Cp = partial(nCp , sigma2)"
   ]
  },
  {
   "cell_type": "code",
   "execution_count": 677,
   "id": "73860739",
   "metadata": {},
   "outputs": [],
   "source": [
    "strategy = Stepwise . first_peak (design ,\n",
    "direction ='forward ',\n",
    "max_terms =len(design.terms))"
   ]
  },
  {
   "cell_type": "code",
   "execution_count": 678,
   "id": "fe170476",
   "metadata": {},
   "outputs": [
    {
     "data": {
      "text/plain": [
       "('all_eng_roc',\n",
       " 'cruise_speed',\n",
       " 'empty_weight',\n",
       " 'engine_power',\n",
       " 'fuel_tank',\n",
       " 'landing_distance',\n",
       " 'length',\n",
       " 'max_speed',\n",
       " 'out_eng_roc',\n",
       " 'range',\n",
       " 'stall_speed',\n",
       " 'takeoff_distance',\n",
       " 'wing_span')"
      ]
     },
     "execution_count": 678,
     "metadata": {},
     "output_type": "execute_result"
    }
   ],
   "source": [
    "data_MSE = sklearn_selected (OLS ,\n",
    "strategy )\n",
    "data_MSE .fit(data ,Y)\n",
    "data_MSE . selected_state_"
   ]
  },
  {
   "cell_type": "code",
   "execution_count": 679,
   "id": "f8e1e842",
   "metadata": {},
   "outputs": [
    {
     "data": {
      "text/plain": [
       "('cruise_speed',\n",
       " 'empty_weight',\n",
       " 'landing_distance',\n",
       " 'length',\n",
       " 'max_speed',\n",
       " 'out_eng_roc',\n",
       " 'range',\n",
       " 'stall_speed',\n",
       " 'takeoff_distance',\n",
       " 'wing_span')"
      ]
     },
     "execution_count": 679,
     "metadata": {},
     "output_type": "execute_result"
    }
   ],
   "source": [
    "# Ensure sigma2 is a numeric value (variance of residuals)\n",
    "sigma2_value = sigma2.mse_resid  # Extract the mean squared error of residuals from the model\n",
    "\n",
    "# Redefine neg_Cp with the correct sigma2 value\n",
    "neg_Cp = partial(nCp, sigma2_value)\n",
    "\n",
    "# Use the corrected neg_Cp in the sklearn_selected function\n",
    "data_Cp = sklearn_selected(OLS, strategy, scoring=neg_Cp)\n",
    "data_Cp.fit(data, Y)\n",
    "data_Cp.selected_state_"
   ]
  },
  {
   "cell_type": "code",
   "execution_count": 680,
   "id": "d55e8fd1",
   "metadata": {},
   "outputs": [
    {
     "name": "stdout",
     "output_type": "stream",
     "text": [
      "                            OLS Regression Results                            \n",
      "==============================================================================\n",
      "Dep. Variable:                  price   R-squared:                       0.825\n",
      "Model:                            OLS   Adj. R-squared:                  0.821\n",
      "Method:                 Least Squares   F-statistic:                     233.6\n",
      "Date:                Sat, 26 Apr 2025   Prob (F-statistic):          1.70e-180\n",
      "Time:                        22:30:52   Log-Likelihood:                 171.44\n",
      "No. Observations:                 507   AIC:                            -320.9\n",
      "Df Residuals:                     496   BIC:                            -274.4\n",
      "Df Model:                          10                                         \n",
      "Covariance Type:            nonrobust                                         \n",
      "====================================================================================\n",
      "                       coef    std err          t      P>|t|      [0.025      0.975]\n",
      "------------------------------------------------------------------------------------\n",
      "const               13.3708      0.067    198.341      0.000      13.238      13.503\n",
      "cruise_speed         0.0026      0.000     12.986      0.000       0.002       0.003\n",
      "empty_weight      3.762e-05   1.56e-05      2.405      0.017    6.88e-06    6.84e-05\n",
      "landing_distance -3.744e-05   8.38e-06     -4.469      0.000   -5.39e-05    -2.1e-05\n",
      "length               0.0005      0.000      2.093      0.037    3.03e-05       0.001\n",
      "max_speed            0.0008      0.000      5.450      0.000       0.001       0.001\n",
      "out_eng_roc      -4.872e-05   1.62e-05     -2.998      0.003   -8.06e-05   -1.68e-05\n",
      "range              9.59e-05   2.28e-05      4.206      0.000    5.11e-05       0.000\n",
      "stall_speed          0.0016      0.001      1.635      0.103      -0.000       0.003\n",
      "takeoff_distance  4.328e-05    2.4e-05      1.803      0.072   -3.89e-06    9.05e-05\n",
      "wing_span            0.0006      0.000      3.413      0.001       0.000       0.001\n",
      "==============================================================================\n",
      "Omnibus:                       26.415   Durbin-Watson:                   1.367\n",
      "Prob(Omnibus):                  0.000   Jarque-Bera (JB):               80.666\n",
      "Skew:                          -0.047   Prob(JB):                     3.04e-18\n",
      "Kurtosis:                       4.952   Cond. No.                     1.29e+05\n",
      "==============================================================================\n",
      "\n",
      "Notes:\n",
      "[1] Standard Errors assume that the covariance matrix of the errors is correctly specified.\n",
      "[2] The condition number is large, 1.29e+05. This might indicate that there are\n",
      "strong multicollinearity or other numerical problems.\n"
     ]
    }
   ],
   "source": [
    "# Elenco dei predittori\n",
    "selected = list(data_Cp.selected_state_)\n",
    "\n",
    "# Matrice X con costante\n",
    "X_best = sm.add_constant(data[selected])\n",
    "\n",
    "# Risposta\n",
    "y = data['price']\n",
    "\n",
    "# Fit OLS\n",
    "model_best = sm.OLS(y, X_best).fit()\n",
    "\n",
    "# Sommario completo\n",
    "print(model_best.summary())"
   ]
  },
  {
   "cell_type": "code",
   "execution_count": 681,
   "id": "c84c9ce6",
   "metadata": {},
   "outputs": [
    {
     "name": "stdout",
     "output_type": "stream",
     "text": [
      "           Regressor         VIF\n",
      "2       empty_weight  131.174709\n",
      "3   landing_distance  124.915222\n",
      "0              const   75.709064\n",
      "4             length   18.216475\n",
      "1       cruise_speed    6.804577\n",
      "10         wing_span    6.146757\n",
      "6        out_eng_roc    5.567310\n",
      "9   takeoff_distance    4.807463\n",
      "5          max_speed    4.760926\n",
      "7              range    4.183933\n",
      "8        stall_speed    4.024263\n"
     ]
    }
   ],
   "source": [
    "#VIF\n",
    "vif_data = pd.DataFrame()\n",
    "vif_data[\"Regressor\"] = X_best.columns\n",
    "vif_data[\"VIF\"] = [VIF(X_best.values, i) for i in range(X_best.shape[1])]\n",
    "vif_data = vif_data.sort_values(\"VIF\", ascending=False)\n",
    "print(vif_data)"
   ]
  },
  {
   "cell_type": "code",
   "execution_count": 682,
   "id": "241d5190",
   "metadata": {},
   "outputs": [
    {
     "name": "stdout",
     "output_type": "stream",
     "text": [
      "Variabili selezionate: ('cruise_speed', 'empty_weight', 'engine_power', 'landing_distance', 'length', 'max_speed', 'out_eng_roc', 'range', 'stall_speed', 'takeoff_distance', 'wing_span')\n"
     ]
    }
   ],
   "source": [
    "# Definizione della funzione per il Cp negativo\n",
    "def nCp(sigma2, estimator, X, Y):\n",
    "    n, p = X.shape\n",
    "    Yhat = estimator.predict(X)\n",
    "    RSS = np.sum((Y - Yhat) ** 2)\n",
    "    return -(RSS + 2 * p * sigma2) / n\n",
    "\n",
    "# Preparazione dei dati a partire da data2\n",
    "# (assicurati che data2 sia già caricato e pulito)\n",
    "numeric_cols = data.select_dtypes(include=[np.number]).columns.drop('price')\n",
    "design2 = MS(numeric_cols).fit(data)\n",
    "\n",
    "Y2 = np.array(data['price'])\n",
    "X2 = design2.transform(data)\n",
    "\n",
    "# Stima di sigma2 tramite OLS\n",
    "sigma2_mod = OLS(Y2, X2).fit()\n",
    "sigma2_val = sigma2_mod.mse_resid\n",
    "\n",
    "# Scorer per Cp\n",
    "neg_Cp = partial(nCp, sigma2_val)\n",
    "\n",
    "# Strategia stepwise forward basata su Mallows Cp\n",
    "strategy2 = Stepwise.first_peak(\n",
    "    design2,\n",
    "    direction='forward',\n",
    "    max_terms=len(design2.terms)\n",
    ")\n",
    "\n",
    "# Selezione del modello\n",
    "model2_Cp = sklearn_selected(OLS, strategy2, scoring=neg_Cp)\n",
    "model2_Cp.fit(data, Y2)\n",
    "\n",
    "# Variabili selezionate\n",
    "print(\"Variabili selezionate:\", model2_Cp.selected_state_)"
   ]
  },
  {
   "cell_type": "code",
   "execution_count": 683,
   "id": "13fba57f",
   "metadata": {},
   "outputs": [
    {
     "name": "stdout",
     "output_type": "stream",
     "text": [
      "                            OLS Regression Results                            \n",
      "==============================================================================\n",
      "Dep. Variable:                  price   R-squared:                       0.825\n",
      "Model:                            OLS   Adj. R-squared:                  0.821\n",
      "Method:                 Least Squares   F-statistic:                     212.2\n",
      "Date:                Sat, 26 Apr 2025   Prob (F-statistic):          2.20e-179\n",
      "Time:                        22:30:52   Log-Likelihood:                 171.64\n",
      "No. Observations:                 507   AIC:                            -319.3\n",
      "Df Residuals:                     495   BIC:                            -268.5\n",
      "Df Model:                          11                                         \n",
      "Covariance Type:            nonrobust                                         \n",
      "====================================================================================\n",
      "                       coef    std err          t      P>|t|      [0.025      0.975]\n",
      "------------------------------------------------------------------------------------\n",
      "const               13.3549      0.072    185.272      0.000      13.213      13.497\n",
      "cruise_speed         0.0025      0.000     12.577      0.000       0.002       0.003\n",
      "empty_weight      3.758e-05   1.57e-05      2.400      0.017    6.82e-06    6.83e-05\n",
      "engine_power      1.164e-05   1.86e-05      0.625      0.532   -2.49e-05    4.82e-05\n",
      "landing_distance -3.956e-05   9.04e-06     -4.375      0.000   -5.73e-05   -2.18e-05\n",
      "length               0.0005      0.000      2.059      0.040    2.21e-05       0.001\n",
      "max_speed            0.0008      0.000      5.474      0.000       0.001       0.001\n",
      "out_eng_roc       -5.11e-05   1.67e-05     -3.060      0.002   -8.39e-05   -1.83e-05\n",
      "range             9.686e-05   2.29e-05      4.236      0.000    5.19e-05       0.000\n",
      "stall_speed          0.0017      0.001      1.736      0.083      -0.000       0.004\n",
      "takeoff_distance  4.552e-05   2.43e-05      1.874      0.062    -2.2e-06    9.32e-05\n",
      "wing_span            0.0007      0.000      3.421      0.001       0.000       0.001\n",
      "==============================================================================\n",
      "Omnibus:                       25.981   Durbin-Watson:                   1.366\n",
      "Prob(Omnibus):                  0.000   Jarque-Bera (JB):               77.660\n",
      "Skew:                          -0.062   Prob(JB):                     1.37e-17\n",
      "Kurtosis:                       4.913   Cond. No.                     1.39e+05\n",
      "==============================================================================\n",
      "\n",
      "Notes:\n",
      "[1] Standard Errors assume that the covariance matrix of the errors is correctly specified.\n",
      "[2] The condition number is large, 1.39e+05. This might indicate that there are\n",
      "strong multicollinearity or other numerical problems.\n"
     ]
    }
   ],
   "source": [
    "#Elenco predittori\n",
    "selected2 = list(model2_Cp.selected_state_)\n",
    "# Matrice X con costante\n",
    "X_best2 = sm.add_constant(data[selected2])\n",
    "# Risposta\n",
    "y2 = data['price']\n",
    "# Fit OLS\n",
    "model_best2 = sm.OLS(y2, X_best2).fit()\n",
    "# Sommario completo\n",
    "print(model_best2.summary())"
   ]
  },
  {
   "cell_type": "code",
   "execution_count": 684,
   "id": "88bd24dc",
   "metadata": {},
   "outputs": [
    {
     "name": "stdout",
     "output_type": "stream",
     "text": [
      "           Regressor         VIF\n",
      "4   landing_distance  145.354590\n",
      "2       empty_weight  131.177339\n",
      "0              const   86.454991\n",
      "3       engine_power   18.434305\n",
      "5             length   18.260898\n",
      "1       cruise_speed    7.100331\n",
      "11         wing_span    6.942790\n",
      "7        out_eng_roc    5.871475\n",
      "10  takeoff_distance    4.913461\n",
      "6          max_speed    4.777891\n",
      "9        stall_speed    4.269911\n",
      "8              range    4.202926\n"
     ]
    }
   ],
   "source": [
    "#VIF\n",
    "vif_data = pd.DataFrame()\n",
    "vif_data[\"Regressor\"] = X_best2.columns\n",
    "vif_data[\"VIF\"] = [VIF(X_best2.values, i) for i in range(X_best2.shape[1])]\n",
    "vif_data = vif_data.sort_values(\"VIF\", ascending=False)\n",
    "print(vif_data)\n"
   ]
  },
  {
   "cell_type": "markdown",
   "id": "31e1824f",
   "metadata": {},
   "source": [
    "### Stepforward regression with Cross Validation"
   ]
  }
 ],
 "metadata": {
  "kernelspec": {
   "display_name": "StatLearning-env",
   "language": "python",
   "name": "python3"
  },
  "language_info": {
   "codemirror_mode": {
    "name": "ipython",
    "version": 3
   },
   "file_extension": ".py",
   "mimetype": "text/x-python",
   "name": "python",
   "nbconvert_exporter": "python",
   "pygments_lexer": "ipython3",
   "version": "3.12.9"
  }
 },
 "nbformat": 4,
 "nbformat_minor": 5
}
